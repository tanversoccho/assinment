{
 "cells": [
  {
   "cell_type": "code",
   "execution_count": 13,
   "id": "03c2ed53",
   "metadata": {},
   "outputs": [
    {
     "name": "stdout",
     "output_type": "stream",
     "text": [
      "[21, 6, 9, 33, 3, 44, 45, 77, 98, 15]\n",
      "Iteration : 1   [21, 6, 9, 33, 3, 44, 45, 77, 98, 15]\n",
      "Iteration : 2   [6, 9, 3, 15, 21, 44, 45, 77, 98, 33]\n",
      "Iteration : 3   [3, 9, 6, 15, 21, 44, 45, 77, 98, 33]\n",
      "Iteration : 4   [3, 9, 6, 15, 21, 44, 45, 77, 98, 33]\n",
      "Iteration : 5   [3, 6, 9, 15, 21, 44, 45, 77, 98, 33]\n",
      "Iteration : 6   [3, 6, 9, 15, 21, 44, 45, 77, 98, 33]\n",
      "Iteration : 7   [3, 6, 9, 15, 21, 44, 45, 77, 98, 33]\n",
      "Iteration : 8   [3, 6, 9, 15, 21, 33, 45, 77, 98, 44]\n",
      "Iteration : 9   [3, 6, 9, 15, 21, 33, 45, 77, 98, 44]\n",
      "Iteration : 10   [3, 6, 9, 15, 21, 33, 44, 77, 98, 45]\n",
      "Iteration : 11   [3, 6, 9, 15, 21, 33, 44, 77, 98, 45]\n",
      "Iteration : 12   [3, 6, 9, 15, 21, 33, 44, 45, 98, 77]\n",
      "Iteration : 13   [3, 6, 9, 15, 21, 33, 44, 45, 98, 77]\n",
      "Iteration : 14   [3, 6, 9, 15, 21, 33, 44, 45, 77, 98]\n",
      "Iteration : 15   [3, 6, 9, 15, 21, 33, 44, 45, 77, 98]\n",
      "Sorted array is using Quick sort:\n",
      "[3, 6, 9, 15, 21, 33, 44, 45, 77, 98]\n"
     ]
    }
   ],
   "source": [
    "def quickSort(arr, low, high):\n",
    "    global iteration\n",
    "    iteration+=1\n",
    "    print('Iteration :',iteration,' ',arr)\n",
    "    # print(arr)\n",
    "    if len(arr) == 1:\n",
    "        return arr\n",
    "    if low < high:\n",
    "\n",
    "        pi = partition(arr, low, high)\n",
    "        quickSort(arr, low, pi-1)\n",
    "        quickSort(arr, pi+1, high)\n",
    " \n",
    "\n",
    "       \n",
    "# e\n",
    "iteration=0 \n",
    "arr = [21,6,9,33,3,44,45,77,98,15] \n",
    "print(arr)\n",
    "\n",
    "n = len(arr)\n",
    "quickSort(arr, 0, n-1)\n",
    "print(\"Sorted array is using Quick sort:\")\n",
    "print(arr)"
   ]
  },
  {
   "cell_type": "code",
   "execution_count": null,
   "id": "9b435f10",
   "metadata": {},
   "outputs": [],
   "source": []
  }
 ],
 "metadata": {
  "kernelspec": {
   "display_name": "Python [conda env:cvpr] *",
   "language": "python",
   "name": "conda-env-cvpr-py"
  },
  "language_info": {
   "codemirror_mode": {
    "name": "ipython",
    "version": 3
   },
   "file_extension": ".py",
   "mimetype": "text/x-python",
   "name": "python",
   "nbconvert_exporter": "python",
   "pygments_lexer": "ipython3",
   "version": "3.8.12"
  }
 },
 "nbformat": 4,
 "nbformat_minor": 5
}
