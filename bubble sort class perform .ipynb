{
 "cells": [
  {
   "cell_type": "code",
   "execution_count": 28,
   "id": "6e45adb6",
   "metadata": {},
   "outputs": [
    {
     "name": "stdout",
     "output_type": "stream",
     "text": [
      "[6, 21, 9, 33, 3, 44, 45, 77, 98, 15]\n",
      "[6, 9, 21, 33, 3, 44, 45, 77, 98, 15]\n",
      "[6, 9, 21, 3, 33, 44, 45, 77, 98, 15]\n",
      "[6, 9, 21, 3, 33, 44, 45, 77, 15, 98]\n",
      "[6, 9, 3, 21, 33, 44, 45, 77, 15, 98]\n",
      "[6, 9, 3, 21, 33, 44, 45, 15, 77, 98]\n",
      "[6, 3, 9, 21, 33, 44, 45, 15, 77, 98]\n",
      "[6, 3, 9, 21, 33, 44, 15, 45, 77, 98]\n",
      "[3, 6, 9, 21, 33, 44, 15, 45, 77, 98]\n",
      "[3, 6, 9, 21, 33, 15, 44, 45, 77, 98]\n",
      "[3, 6, 9, 21, 15, 33, 44, 45, 77, 98]\n",
      "[3, 6, 9, 15, 21, 33, 44, 45, 77, 98]\n",
      " final result is [3, 6, 9, 15, 21, 33, 44, 45, 77, 98]\n"
     ]
    }
   ],
   "source": [
    "def bubbleSort( theSeq ):\n",
    "    n = len( theSeq )\n",
    "\n",
    "    for i in range( n - 1 ) :\n",
    "        flag = 0\n",
    "\n",
    "        for j in range(n - 1) :\n",
    "            \n",
    "            if theSeq[j] > theSeq[j + 1] : \n",
    "                tmp = theSeq[j]\n",
    "                theSeq[j] = theSeq[j + 1]\n",
    "                theSeq[j + 1] = tmp\n",
    "                flag = 1\n",
    "            \n",
    "                print ( theSeq )\n",
    "\n",
    "        if flag == 0:\n",
    "            break\n",
    "\n",
    "    return theSeq\n",
    "\n",
    "el = [21,6,9,33,3,44,45,77,98,15] \n",
    "\n",
    "result = bubbleSort(el)\n",
    "\n",
    "print (f' final result is {result}')"
   ]
  },
  {
   "cell_type": "code",
   "execution_count": null,
   "id": "3e2867e7",
   "metadata": {},
   "outputs": [],
   "source": []
  }
 ],
 "metadata": {
  "kernelspec": {
   "display_name": "Python [conda env:cvpr] *",
   "language": "python",
   "name": "conda-env-cvpr-py"
  },
  "language_info": {
   "codemirror_mode": {
    "name": "ipython",
    "version": 3
   },
   "file_extension": ".py",
   "mimetype": "text/x-python",
   "name": "python",
   "nbconvert_exporter": "python",
   "pygments_lexer": "ipython3",
   "version": "3.8.12"
  }
 },
 "nbformat": 4,
 "nbformat_minor": 5
}
